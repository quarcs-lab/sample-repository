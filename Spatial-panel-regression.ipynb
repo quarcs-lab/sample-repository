{
 "cells": [
  {
   "cell_type": "markdown",
   "metadata": {},
   "source": [
    "# Spatial panel regression in stata using the xsmle package"
   ]
  },
  {
   "cell_type": "markdown",
   "metadata": {},
   "source": [
    "## Initial setup"
   ]
  },
  {
   "cell_type": "code",
   "execution_count": 1,
   "metadata": {},
   "outputs": [],
   "source": [
    "clear all\n",
    "set more off"
   ]
  },
  {
   "cell_type": "markdown",
   "metadata": {},
   "source": [
    "## Load weights matrix.dta (note the first column)"
   ]
  },
  {
   "cell_type": "code",
   "execution_count": 2,
   "metadata": {},
   "outputs": [],
   "source": [
    "use weights.dta, clear"
   ]
  },
  {
   "cell_type": "markdown",
   "metadata": {},
   "source": [
    "## Create spmat object and row normalize the weights matrix"
   ]
  },
  {
   "cell_type": "code",
   "execution_count": 3,
   "metadata": {},
   "outputs": [],
   "source": [
    "spmat dta W m*, normalize(row)"
   ]
  },
  {
   "cell_type": "markdown",
   "metadata": {},
   "source": [
    "## Summarize the weights matrix"
   ]
  },
  {
   "cell_type": "code",
   "execution_count": 4,
   "metadata": {},
   "outputs": [
    {
     "name": "stdout",
     "output_type": "stream",
     "text": [
      "\n",
      "\n",
      "Summary of spatial-weighting object W\n",
      "--------------------------------------\n",
      "        Matrix |          Description\n",
      "---------------+----------------------\n",
      "    Dimensions |            278 x 278\n",
      "     Stored as |            278 x 278\n",
      " Values        |\n",
      "           min |                    0\n",
      "         min>0 |                   .1\n",
      "          mean |             .0035971\n",
      "           max |                    1\n",
      "--------------------------------------\n",
      "\n",
      "\n",
      "Summary of spatial-weighting object W\n",
      "--------------------------------------\n",
      "        Matrix |          Description\n",
      "---------------+----------------------\n",
      "    Dimensions |            278 x 278\n",
      "     Stored as |            278 x 278\n",
      " Links         |\n",
      "         total |                 1476\n",
      "           min |                    1\n",
      "          mean |             5.309353\n",
      "           max |                   10\n",
      "--------------------------------------\n",
      "\n",
      "\n",
      "Summary of spatial-weighting object W\n",
      "--------------------------------------\n",
      "        Matrix |          Description\n",
      "---------------+----------------------\n",
      "    Dimensions |            278 x 278\n",
      "     Stored as |            278 x 278\n",
      " Links         |\n",
      "         total |                 1476\n",
      "           min |                    1\n",
      "          mean |             5.309353\n",
      "           max |                   10\n",
      "--------------------------------------\n",
      "\n",
      "Tabulation of links\n",
      "-------------------------\n",
      " # of links |        Obs\n",
      "------------+------------\n",
      "          1 |          1\n",
      "          2 |         17\n",
      "          3 |         18\n",
      "          4 |         48\n",
      "          5 |         78\n",
      "          6 |         51\n",
      "          7 |         34\n",
      "          8 |         20\n",
      "          9 |          9\n",
      "         10 |          2\n",
      "------------+------------\n",
      "        Sum |        278\n",
      "-------------------------\n",
      "\n",
      "Ids of observations with 1 link:\n",
      " 157\n",
      "\n",
      "Ids of observations with 10 links:\n",
      " 211 276\n"
     ]
    }
   ],
   "source": [
    "spmat summarize W\n",
    "spmat summarize W, links\n",
    "spmat summarize W, links detail"
   ]
  },
  {
   "cell_type": "markdown",
   "metadata": {},
   "source": [
    "## Load panel dataset"
   ]
  },
  {
   "cell_type": "code",
   "execution_count": 5,
   "metadata": {},
   "outputs": [],
   "source": [
    "use paneldata.dta, clear"
   ]
  },
  {
   "cell_type": "markdown",
   "metadata": {},
   "source": [
    "## Define global parameters"
   ]
  },
  {
   "cell_type": "code",
   "execution_count": 6,
   "metadata": {},
   "outputs": [],
   "source": [
    "global id mun\n",
    "global t year\n",
    "global ylist v1\n",
    "global xlist v2 v3"
   ]
  },
  {
   "cell_type": "markdown",
   "metadata": {},
   "source": [
    "## Declare that the data is in long-form panel shape"
   ]
  },
  {
   "cell_type": "code",
   "execution_count": 7,
   "metadata": {},
   "outputs": [
    {
     "name": "stdout",
     "output_type": "stream",
     "text": [
      "\n",
      "\n",
      "       panel variable:  mun (strongly balanced)\n",
      "        time variable:  year, 1 to 7\n",
      "                delta:  1 unit\n"
     ]
    }
   ],
   "source": [
    "sort $id $t\n",
    "xtset $id $t"
   ]
  },
  {
   "cell_type": "markdown",
   "metadata": {},
   "source": [
    "## Descriptive statistics"
   ]
  },
  {
   "cell_type": "code",
   "execution_count": 8,
   "metadata": {},
   "outputs": [
    {
     "name": "stdout",
     "output_type": "stream",
     "text": [
      "\n",
      "\n",
      "     mun:  1, 2, ..., 278                                    n =        278\n",
      "    year:  1, 2, ..., 7                                      T =          7\n",
      "           Delta(year) = 1 unit\n",
      "           Span(year)  = 7 periods\n",
      "           (mun*year uniquely identifies each observation)\n",
      "\n",
      "Distribution of T_i:   min      5%     25%       50%       75%     95%     max\n",
      "                         7       7       7         7         7       7       7\n",
      "\n",
      "     Freq.  Percent    Cum. |  Pattern\n",
      " ---------------------------+---------\n",
      "      278    100.00  100.00 |  1111111\n",
      " ---------------------------+---------\n",
      "      278    100.00         |  XXXXXXX\n",
      "\n",
      "\n",
      "Variable         |      Mean   Std. Dev.       Min        Max |    Observations\n",
      "-----------------+--------------------------------------------+----------------\n",
      "mun      overall |     139.5    80.2718          1        278 |     N =    1946\n",
      "         between |              80.3959          1        278 |     n =     278\n",
      "         within  |                    0      139.5      139.5 |     T =       7\n",
      "                 |                                            |\n",
      "year     overall |         4   2.000514          1          7 |     N =    1946\n",
      "         between |                    0          4          4 |     n =     278\n",
      "         within  |             2.000514          1          7 |     T =       7\n",
      "                 |                                            |\n",
      "v1       overall |   1.26701   .3131398          0   2.112598 |     N =    1946\n",
      "         between |             .2752704   .1491304   2.032876 |     n =     278\n",
      "         within  |             .1500549  -.0518701   2.273307 |     T =       7\n",
      "                 |                                            |\n",
      "v2       overall |  2.518224   .4474157          0   3.343319 |     N =    1946\n",
      "         between |             .4454625   .1022862   3.328054 |     n =     278\n",
      "         within  |             .0485405   1.926497   3.205945 |     T =       7\n",
      "                 |                                            |\n",
      "v3       overall |  2.930478   .0697438   2.766346   3.275081 |     N =    1946\n",
      "         between |              .067081   2.826335   3.229599 |     n =     278\n",
      "         within  |             .0194479    2.83463   3.036112 |     T =       7\n"
     ]
    }
   ],
   "source": [
    "xtdescribe\n",
    "xtsum $id $t $ylist $xlist"
   ]
  },
  {
   "cell_type": "markdown",
   "metadata": {},
   "source": [
    "## Pooled OLS model with information criteria: AIC and BIC"
   ]
  },
  {
   "cell_type": "code",
   "execution_count": 9,
   "metadata": {},
   "outputs": [
    {
     "name": "stdout",
     "output_type": "stream",
     "text": [
      "\n",
      "\n",
      "      Source |       SS           df       MS      Number of obs   =     1,946\n",
      "-------------+----------------------------------   F(2, 1943)      =    564.95\n",
      "       Model |  70.1274404         2  35.0637202   Prob > F        =    0.0000\n",
      "    Residual |   120.59246     1,943  .062065085   R-squared       =    0.3677\n",
      "-------------+----------------------------------   Adj R-squared   =    0.3670\n",
      "       Total |  190.719901     1,945  .098056504   Root MSE        =    .24913\n",
      "\n",
      "------------------------------------------------------------------------------\n",
      "          v1 |      Coef.   Std. Err.      t    P>|t|     [95% Conf. Interval]\n",
      "-------------+----------------------------------------------------------------\n",
      "          v2 |   -.253897   .0160932   -15.78   0.000    -.2854588   -.2223352\n",
      "          v3 |    1.39407   .1032402    13.50   0.000     1.191597    1.596543\n",
      "       _cons |  -2.178912   .3292605    -6.62   0.000    -2.824653   -1.533171\n",
      "------------------------------------------------------------------------------\n",
      "\n",
      "\n",
      "Akaike's information criterion and Bayesian information criterion\n",
      "\n",
      "-----------------------------------------------------------------------------\n",
      "       Model |          N   ll(null)  ll(model)      df        AIC        BIC\n",
      "-------------+---------------------------------------------------------------\n",
      "           . |      1,946  -501.2426  -55.22998       3     116.46   133.1806\n",
      "-----------------------------------------------------------------------------\n",
      "Note: BIC uses N = number of observations. See [R] BIC note.\n"
     ]
    }
   ],
   "source": [
    "reg $ylist $xlist\n",
    "estat ic"
   ]
  },
  {
   "cell_type": "markdown",
   "metadata": {},
   "source": [
    "## Spatial Durbin model (SDM) with random effects"
   ]
  },
  {
   "cell_type": "code",
   "execution_count": 10,
   "metadata": {},
   "outputs": [
    {
     "name": "stdout",
     "output_type": "stream",
     "text": [
      "\n",
      "Warning: All regressors will be spatially lagged \n",
      "\n",
      "\n",
      "SDM with random-effects                              Number of obs =      1946\n",
      "\n",
      "Group variable: mun                               Number of groups =       278\n",
      "Time variable: year                                   Panel length =         7\n",
      "\n",
      "R-sq:    within  = 0.0005\n",
      "         between = 0.4490\n",
      "         overall = 0.3397\n",
      "\n",
      "Log-pseudolikelihood =   434.3975\n",
      "                                  (Std. Err. adjusted for 278 clusters in mun)\n",
      "------------------------------------------------------------------------------\n",
      "             |               Robust\n",
      "          v1 |      Coef.   Std. Err.      z    P>|z|     [95% Conf. Interval]\n",
      "-------------+----------------------------------------------------------------\n",
      "Main         |\n",
      "          v2 |  -.4084206   .0737295    -5.54   0.000    -.5529277   -.2639134\n",
      "          v3 |   .1381157   .3682051     0.38   0.708     -.583553    .8597844\n",
      "       _cons |   1.002876   .9124532     1.10   0.272    -.7854994    2.791251\n",
      "-------------+----------------------------------------------------------------\n",
      "Wx           |\n",
      "          v2 |   .1658575   .0712952     2.33   0.020     .0261215    .3055936\n",
      "          v3 |     .10122    .356313     0.28   0.776    -.5971407    .7995806\n",
      "-------------+----------------------------------------------------------------\n",
      "Spatial      |\n",
      "         rho |   .1377707    .025283     5.45   0.000      .088217    .1873245\n",
      "-------------+----------------------------------------------------------------\n",
      "Variance     |\n",
      "   lgt_theta |  -.8141022   .1655671    -4.92   0.000    -1.138608   -.4895965\n",
      "    sigma2_e |   .0266374    .004773     5.58   0.000     .0172825    .0359923\n",
      "------------------------------------------------------------------------------\n",
      "\n",
      "\n",
      "Akaike's information criterion and Bayesian information criterion\n",
      "\n",
      "-----------------------------------------------------------------------------\n",
      "       Model |          N   ll(null)  ll(model)      df        AIC        BIC\n",
      "-------------+---------------------------------------------------------------\n",
      "           . |      1,946          .   434.3975       8   -852.795  -808.2068\n",
      "-----------------------------------------------------------------------------\n",
      "Note: BIC uses N = number of observations. See [R] BIC note.\n"
     ]
    }
   ],
   "source": [
    "xsmle v1 v2 v3, wmat(W) model(sdm) re vce(cluster mun) nolog\n",
    "estat ic"
   ]
  },
  {
   "cell_type": "markdown",
   "metadata": {},
   "source": [
    "## SDM without direct, indirect and total effects"
   ]
  },
  {
   "cell_type": "code",
   "execution_count": 12,
   "metadata": {},
   "outputs": [
    {
     "name": "stdout",
     "output_type": "stream",
     "text": [
      "\n",
      "Warning: All regressors will be spatially lagged \n",
      "\n",
      "\n",
      "SDM with random-effects                              Number of obs =      1946\n",
      "\n",
      "Group variable: mun                               Number of groups =       278\n",
      "Time variable: year                                   Panel length =         7\n",
      "\n",
      "R-sq:    within  = 0.0005\n",
      "         between = 0.4490\n",
      "         overall = 0.3397\n",
      "\n",
      "Log-likelihood =   434.3975\n",
      "------------------------------------------------------------------------------\n",
      "          v1 |      Coef.   Std. Err.      z    P>|z|     [95% Conf. Interval]\n",
      "-------------+----------------------------------------------------------------\n",
      "Main         |\n",
      "          v2 |  -.4084206   .0446939    -9.14   0.000     -.496019   -.3208221\n",
      "          v3 |   .1381157   .1959201     0.70   0.481    -.2458806     .522112\n",
      "       _cons |   1.002876    .702365     1.43   0.153    -.3737342    2.379486\n",
      "-------------+----------------------------------------------------------------\n",
      "Wx           |\n",
      "          v2 |   .1658575   .0606777     2.73   0.006     .0469315    .2847836\n",
      "          v3 |     .10122   .2629694     0.38   0.700    -.4141906    .6166305\n",
      "-------------+----------------------------------------------------------------\n",
      "Spatial      |\n",
      "         rho |   .1377707    .034366     4.01   0.000     .0704146    .2051269\n",
      "-------------+----------------------------------------------------------------\n",
      "Variance     |\n",
      "   lgt_theta |  -.8141022   .0724416   -11.24   0.000     -.956085   -.6721193\n",
      "    sigma2_e |   .0266374   .0009344    28.51   0.000      .024806    .0284689\n",
      "------------------------------------------------------------------------------\n",
      "\n",
      "\n",
      "Akaike's information criterion and Bayesian information criterion\n",
      "\n",
      "-----------------------------------------------------------------------------\n",
      "       Model |          N   ll(null)  ll(model)      df        AIC        BIC\n",
      "-------------+---------------------------------------------------------------\n",
      "           . |      1,946          .   434.3975       8   -852.795  -808.2068\n",
      "-----------------------------------------------------------------------------\n",
      "Note: BIC uses N = number of observations. See [R] BIC note.\n"
     ]
    }
   ],
   "source": [
    "xsmle v1 v2 v3, wmat(W) model(sdm) noeffects nolog\n",
    "estat ic"
   ]
  },
  {
   "cell_type": "markdown",
   "metadata": {},
   "source": [
    "## SAR with spatial and time fixed-effects"
   ]
  },
  {
   "cell_type": "code",
   "execution_count": 13,
   "metadata": {},
   "outputs": [
    {
     "name": "stdout",
     "output_type": "stream",
     "text": [
      "\n",
      "\n",
      "SAR with spatial and time fixed-effects              Number of obs =      1946\n",
      "\n",
      "Group variable: mun                               Number of groups =       278\n",
      "Time variable: year                                   Panel length =         7\n",
      "\n",
      "R-sq:    within  = 0.0120\n",
      "         between = 0.4894\n",
      "         overall = 0.3428\n",
      "\n",
      "Mean of fixed-effects =  4.0282\n",
      "\n",
      "Log-pseudolikelihood =   964.7944\n",
      "                                  (Std. Err. adjusted for 278 clusters in mun)\n",
      "------------------------------------------------------------------------------\n",
      "             |               Robust\n",
      "          v1 |      Coef.   Std. Err.      z    P>|z|     [95% Conf. Interval]\n",
      "-------------+----------------------------------------------------------------\n",
      "Main         |\n",
      "          v2 |   .0545333   .0507805     1.07   0.283    -.0449947    .1540613\n",
      "          v3 |  -.9947755   .6513873    -1.53   0.127    -2.271471    .2819202\n",
      "-------------+----------------------------------------------------------------\n",
      "Spatial      |\n",
      "         rho |   .0131154   .0296854     0.44   0.659    -.0450668    .0712977\n",
      "-------------+----------------------------------------------------------------\n",
      "Variance     |\n",
      "    sigma2_e |    .021721   .0038468     5.65   0.000     .0141814    .0292606\n",
      "------------------------------------------------------------------------------\n",
      "\n",
      "\n",
      "Akaike's information criterion and Bayesian information criterion\n",
      "\n",
      "-----------------------------------------------------------------------------\n",
      "       Model |          N   ll(null)  ll(model)      df        AIC        BIC\n",
      "-------------+---------------------------------------------------------------\n",
      "           . |      1,946          .   964.7944       4  -1921.589  -1899.295\n",
      "-----------------------------------------------------------------------------\n",
      "Note: BIC uses N = number of observations. See [R] BIC note.\n"
     ]
    }
   ],
   "source": [
    "xsmle v1 v2 v3, wmat(W) model(sar) fe type(both) vce(cluster mun) nolog\n",
    "estat ic"
   ]
  },
  {
   "cell_type": "code",
   "execution_count": null,
   "metadata": {},
   "outputs": [],
   "source": []
  }
 ],
 "metadata": {
  "kernelspec": {
   "display_name": "Stata",
   "language": "stata",
   "name": "stata"
  },
  "language_info": {
   "codemirror_mode": "stata",
   "file_extension": ".do",
   "mimetype": "text/x-stata",
   "name": "stata",
   "version": "15.1"
  }
 },
 "nbformat": 4,
 "nbformat_minor": 4
}
